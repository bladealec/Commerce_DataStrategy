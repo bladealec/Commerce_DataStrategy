{
 "cells": [
  {
   "cell_type": "code",
   "execution_count": 17,
   "id": "f744ff81",
   "metadata": {},
   "outputs": [],
   "source": [
    "import pandas as pd\n",
    "from sklearn.model_selection import train_test_split\n",
    "from sklearn.ensemble import RandomForestClassifier\n",
    "from sklearn.metrics import accuracy_score, classification_report\n",
    "from sklearn.impute import SimpleImputer\n",
    "from sklearn.metrics import accuracy_score\n",
    "import matplotlib.pyplot as plt\n",
    "from sklearn.linear_model import LogisticRegression\n"
   ]
  },
  {
   "cell_type": "code",
   "execution_count": 2,
   "id": "e4a4d7e1",
   "metadata": {},
   "outputs": [
    {
     "data": {
      "text/html": [
       "<div>\n",
       "<style scoped>\n",
       "    .dataframe tbody tr th:only-of-type {\n",
       "        vertical-align: middle;\n",
       "    }\n",
       "\n",
       "    .dataframe tbody tr th {\n",
       "        vertical-align: top;\n",
       "    }\n",
       "\n",
       "    .dataframe thead th {\n",
       "        text-align: right;\n",
       "    }\n",
       "</style>\n",
       "<table border=\"1\" class=\"dataframe\">\n",
       "  <thead>\n",
       "    <tr style=\"text-align: right;\">\n",
       "      <th></th>\n",
       "      <th>InvoiceNo</th>\n",
       "      <th>StockCode</th>\n",
       "      <th>Description</th>\n",
       "      <th>Quantity</th>\n",
       "      <th>InvoiceDate</th>\n",
       "      <th>UnitPrice</th>\n",
       "      <th>CustomerID</th>\n",
       "      <th>Country</th>\n",
       "    </tr>\n",
       "  </thead>\n",
       "  <tbody>\n",
       "    <tr>\n",
       "      <th>0</th>\n",
       "      <td>536365</td>\n",
       "      <td>85123A</td>\n",
       "      <td>WHITE HANGING HEART T-LIGHT HOLDER</td>\n",
       "      <td>6</td>\n",
       "      <td>12/1/2010 8:26</td>\n",
       "      <td>2.55</td>\n",
       "      <td>17850.0</td>\n",
       "      <td>United Kingdom</td>\n",
       "    </tr>\n",
       "    <tr>\n",
       "      <th>1</th>\n",
       "      <td>536365</td>\n",
       "      <td>71053</td>\n",
       "      <td>WHITE METAL LANTERN</td>\n",
       "      <td>6</td>\n",
       "      <td>12/1/2010 8:26</td>\n",
       "      <td>3.39</td>\n",
       "      <td>17850.0</td>\n",
       "      <td>United Kingdom</td>\n",
       "    </tr>\n",
       "    <tr>\n",
       "      <th>2</th>\n",
       "      <td>536365</td>\n",
       "      <td>84406B</td>\n",
       "      <td>CREAM CUPID HEARTS COAT HANGER</td>\n",
       "      <td>8</td>\n",
       "      <td>12/1/2010 8:26</td>\n",
       "      <td>2.75</td>\n",
       "      <td>17850.0</td>\n",
       "      <td>United Kingdom</td>\n",
       "    </tr>\n",
       "    <tr>\n",
       "      <th>3</th>\n",
       "      <td>536365</td>\n",
       "      <td>84029G</td>\n",
       "      <td>KNITTED UNION FLAG HOT WATER BOTTLE</td>\n",
       "      <td>6</td>\n",
       "      <td>12/1/2010 8:26</td>\n",
       "      <td>3.39</td>\n",
       "      <td>17850.0</td>\n",
       "      <td>United Kingdom</td>\n",
       "    </tr>\n",
       "    <tr>\n",
       "      <th>4</th>\n",
       "      <td>536365</td>\n",
       "      <td>84029E</td>\n",
       "      <td>RED WOOLLY HOTTIE WHITE HEART.</td>\n",
       "      <td>6</td>\n",
       "      <td>12/1/2010 8:26</td>\n",
       "      <td>3.39</td>\n",
       "      <td>17850.0</td>\n",
       "      <td>United Kingdom</td>\n",
       "    </tr>\n",
       "  </tbody>\n",
       "</table>\n",
       "</div>"
      ],
      "text/plain": [
       "  InvoiceNo StockCode                          Description  Quantity  \\\n",
       "0    536365    85123A   WHITE HANGING HEART T-LIGHT HOLDER         6   \n",
       "1    536365     71053                  WHITE METAL LANTERN         6   \n",
       "2    536365    84406B       CREAM CUPID HEARTS COAT HANGER         8   \n",
       "3    536365    84029G  KNITTED UNION FLAG HOT WATER BOTTLE         6   \n",
       "4    536365    84029E       RED WOOLLY HOTTIE WHITE HEART.         6   \n",
       "\n",
       "      InvoiceDate  UnitPrice  CustomerID         Country  \n",
       "0  12/1/2010 8:26       2.55     17850.0  United Kingdom  \n",
       "1  12/1/2010 8:26       3.39     17850.0  United Kingdom  \n",
       "2  12/1/2010 8:26       2.75     17850.0  United Kingdom  \n",
       "3  12/1/2010 8:26       3.39     17850.0  United Kingdom  \n",
       "4  12/1/2010 8:26       3.39     17850.0  United Kingdom  "
      ]
     },
     "execution_count": 2,
     "metadata": {},
     "output_type": "execute_result"
    }
   ],
   "source": [
    "retail_df = pd.read_csv('../data/retail_data.csv')\n",
    "df_copy = retail_df.copy()\n",
    "df_copy.head()"
   ]
  },
  {
   "cell_type": "code",
   "execution_count": 3,
   "id": "fb5759a0",
   "metadata": {},
   "outputs": [],
   "source": [
    "# feature engineering for the target variable\n",
    "\n",
    "df_copy['InvoiceDate'] = pd.to_datetime(df_copy['InvoiceDate'])  # convert to datetime type\n",
    "\n",
    "df_copy['PurchaseNextMonth'] = df_copy.groupby('CustomerID')['InvoiceDate'].shift(-1)\n",
    "df_copy['PurchaseNextMonth'] = (df_copy['PurchaseNextMonth'].dt.month == (df_copy['InvoiceDate'].dt.month + 1)).astype(int)\n",
    "\n",
    "df_copy['TotalAmount'] = df_copy['Quantity'] * df_copy['UnitPrice']\n",
    "df_copy['TotalSpending'] = df_copy.groupby('CustomerID')['TotalAmount'].transform('sum')\n",
    "df_copy['Frequency'] = df_copy.groupby('CustomerID')['InvoiceNo'].transform('nunique')\n",
    "\n",
    "X = df_copy[['TotalSpending', 'Frequency']]\n",
    "y = df_copy['PurchaseNextMonth']"
   ]
  },
  {
   "cell_type": "code",
   "execution_count": 4,
   "id": "06a8cea8",
   "metadata": {},
   "outputs": [],
   "source": [
    "# time-series split\n",
    "train_size = int(len(df_copy) * 0.8)\n",
    "train, test = df_copy.iloc[:train_size], df_copy.iloc[train_size:]\n",
    "\n",
    "X_train, X_val, y_train, y_val = train_test_split(X, y, test_size=0.2, random_state=42)\n"
   ]
  },
  {
   "cell_type": "code",
   "execution_count": 5,
   "id": "b65822c0",
   "metadata": {},
   "outputs": [],
   "source": [
    "# impute missing values using mean imputation\n",
    "imputer = SimpleImputer(strategy='mean')\n",
    "\n",
    "X_train_imputed = imputer.fit_transform(X_train)\n",
    "X_val_imputed = imputer.transform(X_val)"
   ]
  },
  {
   "cell_type": "code",
   "execution_count": 6,
   "id": "01b91eef",
   "metadata": {},
   "outputs": [
    {
     "data": {
      "text/html": [
       "<style>#sk-container-id-1 {color: black;background-color: white;}#sk-container-id-1 pre{padding: 0;}#sk-container-id-1 div.sk-toggleable {background-color: white;}#sk-container-id-1 label.sk-toggleable__label {cursor: pointer;display: block;width: 100%;margin-bottom: 0;padding: 0.3em;box-sizing: border-box;text-align: center;}#sk-container-id-1 label.sk-toggleable__label-arrow:before {content: \"▸\";float: left;margin-right: 0.25em;color: #696969;}#sk-container-id-1 label.sk-toggleable__label-arrow:hover:before {color: black;}#sk-container-id-1 div.sk-estimator:hover label.sk-toggleable__label-arrow:before {color: black;}#sk-container-id-1 div.sk-toggleable__content {max-height: 0;max-width: 0;overflow: hidden;text-align: left;background-color: #f0f8ff;}#sk-container-id-1 div.sk-toggleable__content pre {margin: 0.2em;color: black;border-radius: 0.25em;background-color: #f0f8ff;}#sk-container-id-1 input.sk-toggleable__control:checked~div.sk-toggleable__content {max-height: 200px;max-width: 100%;overflow: auto;}#sk-container-id-1 input.sk-toggleable__control:checked~label.sk-toggleable__label-arrow:before {content: \"▾\";}#sk-container-id-1 div.sk-estimator input.sk-toggleable__control:checked~label.sk-toggleable__label {background-color: #d4ebff;}#sk-container-id-1 div.sk-label input.sk-toggleable__control:checked~label.sk-toggleable__label {background-color: #d4ebff;}#sk-container-id-1 input.sk-hidden--visually {border: 0;clip: rect(1px 1px 1px 1px);clip: rect(1px, 1px, 1px, 1px);height: 1px;margin: -1px;overflow: hidden;padding: 0;position: absolute;width: 1px;}#sk-container-id-1 div.sk-estimator {font-family: monospace;background-color: #f0f8ff;border: 1px dotted black;border-radius: 0.25em;box-sizing: border-box;margin-bottom: 0.5em;}#sk-container-id-1 div.sk-estimator:hover {background-color: #d4ebff;}#sk-container-id-1 div.sk-parallel-item::after {content: \"\";width: 100%;border-bottom: 1px solid gray;flex-grow: 1;}#sk-container-id-1 div.sk-label:hover label.sk-toggleable__label {background-color: #d4ebff;}#sk-container-id-1 div.sk-serial::before {content: \"\";position: absolute;border-left: 1px solid gray;box-sizing: border-box;top: 0;bottom: 0;left: 50%;z-index: 0;}#sk-container-id-1 div.sk-serial {display: flex;flex-direction: column;align-items: center;background-color: white;padding-right: 0.2em;padding-left: 0.2em;position: relative;}#sk-container-id-1 div.sk-item {position: relative;z-index: 1;}#sk-container-id-1 div.sk-parallel {display: flex;align-items: stretch;justify-content: center;background-color: white;position: relative;}#sk-container-id-1 div.sk-item::before, #sk-container-id-1 div.sk-parallel-item::before {content: \"\";position: absolute;border-left: 1px solid gray;box-sizing: border-box;top: 0;bottom: 0;left: 50%;z-index: -1;}#sk-container-id-1 div.sk-parallel-item {display: flex;flex-direction: column;z-index: 1;position: relative;background-color: white;}#sk-container-id-1 div.sk-parallel-item:first-child::after {align-self: flex-end;width: 50%;}#sk-container-id-1 div.sk-parallel-item:last-child::after {align-self: flex-start;width: 50%;}#sk-container-id-1 div.sk-parallel-item:only-child::after {width: 0;}#sk-container-id-1 div.sk-dashed-wrapped {border: 1px dashed gray;margin: 0 0.4em 0.5em 0.4em;box-sizing: border-box;padding-bottom: 0.4em;background-color: white;}#sk-container-id-1 div.sk-label label {font-family: monospace;font-weight: bold;display: inline-block;line-height: 1.2em;}#sk-container-id-1 div.sk-label-container {text-align: center;}#sk-container-id-1 div.sk-container {/* jupyter's `normalize.less` sets `[hidden] { display: none; }` but bootstrap.min.css set `[hidden] { display: none !important; }` so we also need the `!important` here to be able to override the default hidden behavior on the sphinx rendered scikit-learn.org. See: https://github.com/scikit-learn/scikit-learn/issues/21755 */display: inline-block !important;position: relative;}#sk-container-id-1 div.sk-text-repr-fallback {display: none;}</style><div id=\"sk-container-id-1\" class=\"sk-top-container\"><div class=\"sk-text-repr-fallback\"><pre>RandomForestClassifier(random_state=42)</pre><b>In a Jupyter environment, please rerun this cell to show the HTML representation or trust the notebook. <br />On GitHub, the HTML representation is unable to render, please try loading this page with nbviewer.org.</b></div><div class=\"sk-container\" hidden><div class=\"sk-item\"><div class=\"sk-estimator sk-toggleable\"><input class=\"sk-toggleable__control sk-hidden--visually\" id=\"sk-estimator-id-1\" type=\"checkbox\" checked><label for=\"sk-estimator-id-1\" class=\"sk-toggleable__label sk-toggleable__label-arrow\">RandomForestClassifier</label><div class=\"sk-toggleable__content\"><pre>RandomForestClassifier(random_state=42)</pre></div></div></div></div></div>"
      ],
      "text/plain": [
       "RandomForestClassifier(random_state=42)"
      ]
     },
     "execution_count": 6,
     "metadata": {},
     "output_type": "execute_result"
    }
   ],
   "source": [
    "# using random forest classifier model and training\n",
    "model = RandomForestClassifier(random_state=42)\n",
    "model.fit(X_train_imputed, y_train)"
   ]
  },
  {
   "cell_type": "code",
   "execution_count": 7,
   "id": "f3698a72",
   "metadata": {},
   "outputs": [
    {
     "name": "stdout",
     "output_type": "stream",
     "text": [
      "Accuracy: 0.9912070269971028\n",
      "Classification Report:\n",
      "               precision    recall  f1-score   support\n",
      "\n",
      "           0       0.99      1.00      1.00    107432\n",
      "           1       0.00      0.00      0.00       950\n",
      "\n",
      "    accuracy                           0.99    108382\n",
      "   macro avg       0.50      0.50      0.50    108382\n",
      "weighted avg       0.98      0.99      0.99    108382\n",
      "\n"
     ]
    }
   ],
   "source": [
    "# evaluation of random forest classifier model\n",
    "predictions = model.predict(X_val_imputed)\n",
    "print(\"Accuracy:\", accuracy_score(y_val, predictions))\n",
    "print(\"Classification Report:\\n\", classification_report(y_val, predictions))"
   ]
  },
  {
   "cell_type": "code",
   "execution_count": 8,
   "id": "bbb80889",
   "metadata": {},
   "outputs": [],
   "source": [
    "# test set predictions\n",
    "X_test = test[['TotalSpending', 'Frequency']]\n",
    "y_test = test['PurchaseNextMonth']\n",
    "\n",
    "X_test_imputed = imputer.transform(X_test)\n",
    "\n",
    "test_predictions = model.predict(X_test_imputed)"
   ]
  },
  {
   "cell_type": "code",
   "execution_count": 9,
   "id": "736beee8",
   "metadata": {},
   "outputs": [
    {
     "name": "stdout",
     "output_type": "stream",
     "text": [
      "Accuracy on the test set: 0.9959679651602664\n"
     ]
    }
   ],
   "source": [
    "accuracy = accuracy_score(y_test, test_predictions)\n",
    "print(\"Accuracy on the test set:\", accuracy)"
   ]
  },
  {
   "cell_type": "code",
   "execution_count": 10,
   "id": "5318b1e7",
   "metadata": {},
   "outputs": [
    {
     "name": "stdout",
     "output_type": "stream",
     "text": [
      "Number of customers predicted to purchase: 2\n",
      "Number of customers predicted not to purchase: 108380\n"
     ]
    }
   ],
   "source": [
    "# count of predicted purchases (1) and non-purchases (0)\n",
    "num_purchases = sum(test_predictions)\n",
    "num_non_purchases = len(test_predictions) - num_purchases\n",
    "\n",
    "print(\"Number of customers predicted to purchase:\", num_purchases)\n",
    "print(\"Number of customers predicted not to purchase:\", num_non_purchases)\n"
   ]
  },
  {
   "cell_type": "markdown",
   "id": "86a3f3f2",
   "metadata": {},
   "source": [
    "### Only two customers are predicted to purchase again next month\n",
    "#### Doesn't 'feel' right, Could be an issue with the model or data"
   ]
  },
  {
   "cell_type": "code",
   "execution_count": 16,
   "id": "e318bf82",
   "metadata": {},
   "outputs": [],
   "source": [
    "# Random Forest algorithm could be overly complex"
   ]
  },
  {
   "cell_type": "code",
   "execution_count": 19,
   "id": "1f25adda",
   "metadata": {},
   "outputs": [
    {
     "name": "stdout",
     "output_type": "stream",
     "text": [
      "Accuracy of Logistic Regression model: 0.9912347068701445\n",
      "Classification Report:\n",
      "               precision    recall  f1-score   support\n",
      "\n",
      "           0       0.99      1.00      1.00    107432\n",
      "           1       0.00      0.00      0.00       950\n",
      "\n",
      "    accuracy                           0.99    108382\n",
      "   macro avg       0.50      0.50      0.50    108382\n",
      "weighted avg       0.98      0.99      0.99    108382\n",
      "\n",
      "Accuracy on the test set using Logistic Regression: 0.9959864184089608\n"
     ]
    },
    {
     "name": "stderr",
     "output_type": "stream",
     "text": [
      "C:\\Users\\alecb\\anaconda3\\lib\\site-packages\\sklearn\\metrics\\_classification.py:1344: UndefinedMetricWarning: Precision and F-score are ill-defined and being set to 0.0 in labels with no predicted samples. Use `zero_division` parameter to control this behavior.\n",
      "  _warn_prf(average, modifier, msg_start, len(result))\n",
      "C:\\Users\\alecb\\anaconda3\\lib\\site-packages\\sklearn\\metrics\\_classification.py:1344: UndefinedMetricWarning: Precision and F-score are ill-defined and being set to 0.0 in labels with no predicted samples. Use `zero_division` parameter to control this behavior.\n",
      "  _warn_prf(average, modifier, msg_start, len(result))\n",
      "C:\\Users\\alecb\\anaconda3\\lib\\site-packages\\sklearn\\metrics\\_classification.py:1344: UndefinedMetricWarning: Precision and F-score are ill-defined and being set to 0.0 in labels with no predicted samples. Use `zero_division` parameter to control this behavior.\n",
      "  _warn_prf(average, modifier, msg_start, len(result))\n"
     ]
    }
   ],
   "source": [
    "# Logistic regression model;\n",
    "# Accuracy of the logistic regression model on the validation and test set are high;\n",
    "# Precision, recall, and F1-score for the positive class are all zero,\n",
    "# indicating that the model did not correctly predict any positive instances.\n",
    "\n",
    "logistic_model = LogisticRegression(random_state=42)\n",
    "\n",
    "logistic_model.fit(X_train_imputed, y_train)\n",
    "\n",
    "# reports\n",
    "logistic_predictions = logistic_model.predict(X_val_imputed)\n",
    "logistic_accuracy = accuracy_score(y_val, logistic_predictions)\n",
    "print(\"Accuracy of Logistic Regression model:\", logistic_accuracy)\n",
    "print(\"Classification Report:\\n\", classification_report(y_val, logistic_predictions))\n",
    "\n",
    "# predictions and accuracy\n",
    "logistic_test_predictions = logistic_model.predict(X_test_imputed)\n",
    "\n",
    "logistic_accuracy_test = accuracy_score(y_test, logistic_test_predictions)\n",
    "print(\"Accuracy on the test set using Logistic Regression:\", logistic_accuracy_test)\n"
   ]
  },
  {
   "cell_type": "code",
   "execution_count": 20,
   "id": "1c45edcc",
   "metadata": {},
   "outputs": [
    {
     "name": "stdout",
     "output_type": "stream",
     "text": [
      "Precision: 0.0\n",
      "Recall: 0.0\n",
      "F1-score: 0.0\n",
      "ROC AUC Score: 0.5\n"
     ]
    },
    {
     "name": "stderr",
     "output_type": "stream",
     "text": [
      "C:\\Users\\alecb\\anaconda3\\lib\\site-packages\\sklearn\\metrics\\_classification.py:1344: UndefinedMetricWarning: Precision is ill-defined and being set to 0.0 due to no predicted samples. Use `zero_division` parameter to control this behavior.\n",
      "  _warn_prf(average, modifier, msg_start, len(result))\n"
     ]
    }
   ],
   "source": [
    "from sklearn.metrics import precision_score, recall_score, f1_score, roc_auc_score\n",
    "\n",
    "# Define class weights to handle imbalanced data\n",
    "class_weights = {0: 1, 1: 10}  # Adjust the weights as per your dataset's imbalance\n",
    "\n",
    "# Create a logistic regression model with class weights\n",
    "logistic_model_balanced = LogisticRegression(class_weight=class_weights, random_state=42)\n",
    "\n",
    "# Train the logistic regression model\n",
    "logistic_model_balanced.fit(X_train_imputed, y_train)\n",
    "\n",
    "# Evaluate the logistic regression model\n",
    "logistic_predictions_balanced = logistic_model_balanced.predict(X_val_imputed)\n",
    "precision = precision_score(y_val, logistic_predictions_balanced)\n",
    "recall = recall_score(y_val, logistic_predictions_balanced)\n",
    "f1 = f1_score(y_val, logistic_predictions_balanced)\n",
    "roc_auc = roc_auc_score(y_val, logistic_predictions_balanced)\n",
    "print(\"Precision:\", precision)\n",
    "print(\"Recall:\", recall)\n",
    "print(\"F1-score:\", f1)\n",
    "print(\"ROC AUC Score:\", roc_auc)"
   ]
  },
  {
   "cell_type": "code",
   "execution_count": null,
   "id": "99a1b77d",
   "metadata": {},
   "outputs": [],
   "source": [
    "from sklearn.ensemble import RandomForestClassifier\n",
    "from sklearn.model_selection import GridSearchCV\n",
    "\n",
    "# Create a random forest classifier\n",
    "rf_model = RandomForestClassifier(random_state=42)\n",
    "\n",
    "# Define hyperparameters to tune\n",
    "param_grid = {\n",
    "    'n_estimators': [100, 200, 300],  # Number of trees in the forest\n",
    "    'max_depth': [None, 10, 20],        # Maximum depth of the trees\n",
    "    'min_samples_split': [2, 5, 10],    # Minimum number of samples required to split an internal node\n",
    "    'min_samples_leaf': [1, 2, 4]       # Minimum number of samples required to be at a leaf node\n",
    "}\n",
    "\n",
    "# Perform grid search with 5-fold cross-validation\n",
    "grid_search = GridSearchCV(rf_model, param_grid, cv=5, scoring='accuracy')\n",
    "grid_search.fit(X_train_imputed, y_train)\n",
    "\n",
    "# Get the best hyperparameters\n",
    "best_params = grid_search.best_params_\n",
    "print(\"Best Hyperparameters:\", best_params)\n",
    "\n",
    "# Evaluate the best model on the validation set\n",
    "best_rf_model = grid_search.best_estimator_\n",
    "rf_predictions = best_rf_model.predict(X_val_imputed)\n",
    "precision_rf = precision_score(y_val, rf_predictions)\n",
    "recall_rf = recall_score(y_val, rf_predictions)\n",
    "f1_rf = f1_score(y_val, rf_predictions)\n",
    "roc_auc_rf = roc_auc_score(y_val, rf_predictions)\n",
    "print(\"Precision (Random Forest):\", precision_rf)\n",
    "print(\"Recall (Random Forest):\", recall_rf)\n",
    "print(\"F1-score (Random Forest):\", f1_rf)\n",
    "print(\"ROC AUC Score (Random Forest):\", roc_auc_rf)"
   ]
  },
  {
   "cell_type": "code",
   "execution_count": null,
   "id": "6bc8cb03",
   "metadata": {},
   "outputs": [],
   "source": []
  }
 ],
 "metadata": {
  "kernelspec": {
   "display_name": "Python 3 (ipykernel)",
   "language": "python",
   "name": "python3"
  },
  "language_info": {
   "codemirror_mode": {
    "name": "ipython",
    "version": 3
   },
   "file_extension": ".py",
   "mimetype": "text/x-python",
   "name": "python",
   "nbconvert_exporter": "python",
   "pygments_lexer": "ipython3",
   "version": "3.10.9"
  }
 },
 "nbformat": 4,
 "nbformat_minor": 5
}
