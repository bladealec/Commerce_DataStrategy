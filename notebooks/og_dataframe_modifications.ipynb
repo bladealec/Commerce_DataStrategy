{
 "cells": [
  {
   "cell_type": "code",
   "execution_count": 1,
   "id": "dd991c84",
   "metadata": {},
   "outputs": [],
   "source": [
    "import pandas as pd"
   ]
  },
  {
   "cell_type": "code",
   "execution_count": 2,
   "id": "d1e24d38",
   "metadata": {},
   "outputs": [
    {
     "data": {
      "text/html": [
       "<div>\n",
       "<style scoped>\n",
       "    .dataframe tbody tr th:only-of-type {\n",
       "        vertical-align: middle;\n",
       "    }\n",
       "\n",
       "    .dataframe tbody tr th {\n",
       "        vertical-align: top;\n",
       "    }\n",
       "\n",
       "    .dataframe thead th {\n",
       "        text-align: right;\n",
       "    }\n",
       "</style>\n",
       "<table border=\"1\" class=\"dataframe\">\n",
       "  <thead>\n",
       "    <tr style=\"text-align: right;\">\n",
       "      <th></th>\n",
       "      <th>InvoiceNo</th>\n",
       "      <th>StockCode</th>\n",
       "      <th>Description</th>\n",
       "      <th>Quantity</th>\n",
       "      <th>InvoiceDate</th>\n",
       "      <th>UnitPrice</th>\n",
       "      <th>CustomerID</th>\n",
       "      <th>Country</th>\n",
       "    </tr>\n",
       "  </thead>\n",
       "  <tbody>\n",
       "    <tr>\n",
       "      <th>0</th>\n",
       "      <td>536365</td>\n",
       "      <td>85123A</td>\n",
       "      <td>WHITE HANGING HEART T-LIGHT HOLDER</td>\n",
       "      <td>6</td>\n",
       "      <td>12/1/2010 8:26</td>\n",
       "      <td>2.55</td>\n",
       "      <td>17850.0</td>\n",
       "      <td>United Kingdom</td>\n",
       "    </tr>\n",
       "    <tr>\n",
       "      <th>1</th>\n",
       "      <td>536365</td>\n",
       "      <td>71053</td>\n",
       "      <td>WHITE METAL LANTERN</td>\n",
       "      <td>6</td>\n",
       "      <td>12/1/2010 8:26</td>\n",
       "      <td>3.39</td>\n",
       "      <td>17850.0</td>\n",
       "      <td>United Kingdom</td>\n",
       "    </tr>\n",
       "    <tr>\n",
       "      <th>2</th>\n",
       "      <td>536365</td>\n",
       "      <td>84406B</td>\n",
       "      <td>CREAM CUPID HEARTS COAT HANGER</td>\n",
       "      <td>8</td>\n",
       "      <td>12/1/2010 8:26</td>\n",
       "      <td>2.75</td>\n",
       "      <td>17850.0</td>\n",
       "      <td>United Kingdom</td>\n",
       "    </tr>\n",
       "    <tr>\n",
       "      <th>3</th>\n",
       "      <td>536365</td>\n",
       "      <td>84029G</td>\n",
       "      <td>KNITTED UNION FLAG HOT WATER BOTTLE</td>\n",
       "      <td>6</td>\n",
       "      <td>12/1/2010 8:26</td>\n",
       "      <td>3.39</td>\n",
       "      <td>17850.0</td>\n",
       "      <td>United Kingdom</td>\n",
       "    </tr>\n",
       "    <tr>\n",
       "      <th>4</th>\n",
       "      <td>536365</td>\n",
       "      <td>84029E</td>\n",
       "      <td>RED WOOLLY HOTTIE WHITE HEART.</td>\n",
       "      <td>6</td>\n",
       "      <td>12/1/2010 8:26</td>\n",
       "      <td>3.39</td>\n",
       "      <td>17850.0</td>\n",
       "      <td>United Kingdom</td>\n",
       "    </tr>\n",
       "  </tbody>\n",
       "</table>\n",
       "</div>"
      ],
      "text/plain": [
       "  InvoiceNo StockCode                          Description  Quantity  \\\n",
       "0    536365    85123A   WHITE HANGING HEART T-LIGHT HOLDER         6   \n",
       "1    536365     71053                  WHITE METAL LANTERN         6   \n",
       "2    536365    84406B       CREAM CUPID HEARTS COAT HANGER         8   \n",
       "3    536365    84029G  KNITTED UNION FLAG HOT WATER BOTTLE         6   \n",
       "4    536365    84029E       RED WOOLLY HOTTIE WHITE HEART.         6   \n",
       "\n",
       "      InvoiceDate  UnitPrice  CustomerID         Country  \n",
       "0  12/1/2010 8:26       2.55     17850.0  United Kingdom  \n",
       "1  12/1/2010 8:26       3.39     17850.0  United Kingdom  \n",
       "2  12/1/2010 8:26       2.75     17850.0  United Kingdom  \n",
       "3  12/1/2010 8:26       3.39     17850.0  United Kingdom  \n",
       "4  12/1/2010 8:26       3.39     17850.0  United Kingdom  "
      ]
     },
     "execution_count": 2,
     "metadata": {},
     "output_type": "execute_result"
    }
   ],
   "source": [
    "og_df = pd.read_csv('../data/retail_data.csv')\n",
    "\n",
    "og_df.head()"
   ]
  },
  {
   "cell_type": "code",
   "execution_count": null,
   "id": "fdbb3ad0",
   "metadata": {},
   "outputs": [],
   "source": []
  },
  {
   "cell_type": "markdown",
   "id": "bcf9bc74",
   "metadata": {},
   "source": [
    "### Minimum restrictions"
   ]
  },
  {
   "cell_type": "code",
   "execution_count": 9,
   "id": "065e46c4",
   "metadata": {},
   "outputs": [
    {
     "name": "stdout",
     "output_type": "stream",
     "text": [
      "Minimun Quantity in dataframe:  1\n",
      "Minimun UnitPrice in dataframe:  0.001\n"
     ]
    }
   ],
   "source": [
    "# ignoring entries with quantity or unitprice less than 0 (returns)\n",
    "df_minimums = og_df[(og_df['Quantity'] > 0) & (og_df['UnitPrice'] > 0)].copy()\n",
    "\n",
    "print('Minimun Quantity in dataframe: ', df_minimums.Quantity.min())\n",
    "print('Minimun UnitPrice in dataframe: ', df_minimums.UnitPrice.min())"
   ]
  },
  {
   "cell_type": "code",
   "execution_count": 10,
   "id": "c98b14be",
   "metadata": {},
   "outputs": [],
   "source": [
    "df_minimums.to_csv('../data/retail_0minimums.csv')"
   ]
  },
  {
   "cell_type": "code",
   "execution_count": null,
   "id": "573f25aa",
   "metadata": {},
   "outputs": [],
   "source": []
  },
  {
   "cell_type": "markdown",
   "id": "e329f1c1",
   "metadata": {},
   "source": [
    "### Totals"
   ]
  },
  {
   "cell_type": "code",
   "execution_count": 25,
   "id": "3c9af2e2",
   "metadata": {},
   "outputs": [
    {
     "data": {
      "text/html": [
       "<div>\n",
       "<style scoped>\n",
       "    .dataframe tbody tr th:only-of-type {\n",
       "        vertical-align: middle;\n",
       "    }\n",
       "\n",
       "    .dataframe tbody tr th {\n",
       "        vertical-align: top;\n",
       "    }\n",
       "\n",
       "    .dataframe thead th {\n",
       "        text-align: right;\n",
       "    }\n",
       "</style>\n",
       "<table border=\"1\" class=\"dataframe\">\n",
       "  <thead>\n",
       "    <tr style=\"text-align: right;\">\n",
       "      <th></th>\n",
       "      <th>CustomerID</th>\n",
       "      <th>InvoiceDate</th>\n",
       "      <th>Country</th>\n",
       "      <th>TotalQuantity</th>\n",
       "      <th>UniqueStockCodes</th>\n",
       "      <th>TotalPrice</th>\n",
       "    </tr>\n",
       "  </thead>\n",
       "  <tbody>\n",
       "    <tr>\n",
       "      <th>0</th>\n",
       "      <td>12346.0</td>\n",
       "      <td>1/18/2011 10:01</td>\n",
       "      <td>United Kingdom</td>\n",
       "      <td>74215</td>\n",
       "      <td>1</td>\n",
       "      <td>77183.60</td>\n",
       "    </tr>\n",
       "    <tr>\n",
       "      <th>1</th>\n",
       "      <td>12347.0</td>\n",
       "      <td>1/26/2011 14:30</td>\n",
       "      <td>Iceland</td>\n",
       "      <td>315</td>\n",
       "      <td>29</td>\n",
       "      <td>475.39</td>\n",
       "    </tr>\n",
       "    <tr>\n",
       "      <th>2</th>\n",
       "      <td>12347.0</td>\n",
       "      <td>10/31/2011 12:25</td>\n",
       "      <td>Iceland</td>\n",
       "      <td>676</td>\n",
       "      <td>47</td>\n",
       "      <td>1294.32</td>\n",
       "    </tr>\n",
       "    <tr>\n",
       "      <th>3</th>\n",
       "      <td>12347.0</td>\n",
       "      <td>12/7/2010 14:57</td>\n",
       "      <td>Iceland</td>\n",
       "      <td>319</td>\n",
       "      <td>31</td>\n",
       "      <td>711.79</td>\n",
       "    </tr>\n",
       "    <tr>\n",
       "      <th>4</th>\n",
       "      <td>12347.0</td>\n",
       "      <td>12/7/2011 15:52</td>\n",
       "      <td>Iceland</td>\n",
       "      <td>192</td>\n",
       "      <td>11</td>\n",
       "      <td>224.82</td>\n",
       "    </tr>\n",
       "  </tbody>\n",
       "</table>\n",
       "</div>"
      ],
      "text/plain": [
       "   CustomerID       InvoiceDate         Country  TotalQuantity  \\\n",
       "0     12346.0   1/18/2011 10:01  United Kingdom          74215   \n",
       "1     12347.0   1/26/2011 14:30         Iceland            315   \n",
       "2     12347.0  10/31/2011 12:25         Iceland            676   \n",
       "3     12347.0   12/7/2010 14:57         Iceland            319   \n",
       "4     12347.0   12/7/2011 15:52         Iceland            192   \n",
       "\n",
       "   UniqueStockCodes  TotalPrice  \n",
       "0                 1    77183.60  \n",
       "1                29      475.39  \n",
       "2                47     1294.32  \n",
       "3                31      711.79  \n",
       "4                11      224.82  "
      ]
     },
     "execution_count": 25,
     "metadata": {},
     "output_type": "execute_result"
    }
   ],
   "source": [
    "# grouping CustomerID, Country, InvoiceDate\n",
    "# summing UnitPrice to get TotalPrice, summing quantity\n",
    "# ignoring entries with quantity or unitprice less than 0 (returns)\n",
    "df_totals = df_minimums\n",
    "df_totals['TotalPrice'] = df_minimums['Quantity'] * df_minimums['UnitPrice']\n",
    "df_totals = df_totals.groupby(['CustomerID', 'InvoiceDate', 'Country']).agg({'Quantity': 'sum', 'StockCode': 'nunique', 'TotalPrice': 'sum'}).reset_index()\n",
    "df_totals.rename(columns={'Quantity': 'TotalQuantity', 'StockCode': 'UniqueStockCodes'}, inplace=True)\n",
    "\n",
    "df_totals.head()"
   ]
  },
  {
   "cell_type": "code",
   "execution_count": 26,
   "id": "cb054961",
   "metadata": {},
   "outputs": [],
   "source": [
    "df_totals.to_csv('../data/retail_totals.csv')"
   ]
  },
  {
   "cell_type": "code",
   "execution_count": null,
   "id": "b3c6fdd5",
   "metadata": {},
   "outputs": [],
   "source": []
  },
  {
   "cell_type": "markdown",
   "id": "b0a7c30e",
   "metadata": {},
   "source": [
    "### Removing Outliers"
   ]
  },
  {
   "cell_type": "code",
   "execution_count": null,
   "id": "a761938a",
   "metadata": {},
   "outputs": [],
   "source": [
    "import numpy as np\n",
    "\n",
    "# Define a function to identify outliers using the IQR method\n",
    "def identify_outliers(series):\n",
    "    Q1 = series.quantile(0.25)\n",
    "    Q3 = series.quantile(0.75)\n",
    "    IQR = Q3 - Q1\n",
    "    lower_bound = Q1 - 1.5 * IQR\n",
    "    upper_bound = Q3 + 1.5 * IQR\n",
    "    return (series < lower_bound) | (series > upper_bound)\n",
    "\n",
    "# Exclude outliers from the DataFrame\n",
    "outliers_mask = identify_outliers(df['TotalPrice'])\n",
    "\n",
    "# Filter the DataFrame to exclude outliers\n",
    "df_filtered = df[~outliers_mask]\n",
    "\n",
    "# Now, proceed with grouping and aggregating as before\n",
    "df_customer_purchase = df_filtered.groupby(['CustomerID', 'InvoiceDate', 'Country']).agg({'Quantity': 'sum', 'StockCode': 'nunique', 'TotalPrice': 'sum'}).reset_index()\n",
    "df_customer_purchase.rename(columns={'Quantity': 'TotalQuantity', 'StockCode': 'UniqueStockCodes'}, inplace=True)\n",
    "\n",
    "# Display the first few rows of the grouped DataFrame\n",
    "print(df_customer_purchase.head())"
   ]
  }
 ],
 "metadata": {
  "kernelspec": {
   "display_name": "Python 3 (ipykernel)",
   "language": "python",
   "name": "python3"
  },
  "language_info": {
   "codemirror_mode": {
    "name": "ipython",
    "version": 3
   },
   "file_extension": ".py",
   "mimetype": "text/x-python",
   "name": "python",
   "nbconvert_exporter": "python",
   "pygments_lexer": "ipython3",
   "version": "3.10.9"
  }
 },
 "nbformat": 4,
 "nbformat_minor": 5
}
